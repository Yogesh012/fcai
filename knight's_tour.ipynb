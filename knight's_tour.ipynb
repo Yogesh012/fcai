{
 "cells": [
  {
   "cell_type": "markdown",
   "id": "bf6c739b-acb4-4fab-bf7e-aba68f8e2507",
   "metadata": {},
   "source": [
    "# Knight's Tour - \n",
    "### Starting at an arbitary starting position on the board, the task is to move the knight such that it visits every square on the chessboard exactly once, generating a knight's tour."
   ]
  },
  {
   "cell_type": "code",
   "execution_count": 1,
   "id": "d379f40a-5a46-4205-aa86-a7da404321e6",
   "metadata": {},
   "outputs": [],
   "source": [
    "def moveGen(node, n):\n",
    "  row, col = node\n",
    "  moves = []\n",
    "  \n",
    "  # Vertical moves (up & down)\n",
    "  if row-2 >= 0 and col+1 < n: moves.append((row-2, col+1))\n",
    "  if row+2 < n and col+1 < n: moves.append((row+2, col+1))\n",
    "  if row-2 >= 0 and col-1 >=0: moves.append((row-2, col-1))\n",
    "  if row+2 < n and col-1 >= 0: moves.append((row+2, col-1))\n",
    "  \n",
    "  # Horizontal moves (left and right)\n",
    "  if row+1 < n and col+2 < n: moves.append((row+1, col+2))\n",
    "  if row+1 < n and col-2 >= 0: moves.append((row+1, col-2))\n",
    "  if row-1 >= 0 and col-2 >= 0: moves.append((row-1, col-2))\n",
    "  if row-1 >= 0 and col+2 < n: moves.append((row-1, col+2))\n",
    "  return moves\n",
    "\n",
    "def removeSeen(node_list, open_list, closed_list):\n",
    "  if node_list is None or len(node_list) == 0: \n",
    "    return []\n",
    "  \n",
    "  n = node_list[0]\n",
    "  if occuresIn(n, open_list) or occuresIn(n, closed_list):\n",
    "    return removeSeen(node_list[1:], open_list, closed_list)\n",
    "  else:\n",
    "    return removeSeen(node_list[1:], open_list, closed_list).append(n)\n",
    "\n",
    "def occursIn(node, list_of_pairs):\n",
    "  if list_of_pairs is None or len(list_of_pairs) == 0: return False\n",
    "  list_of_pairs = list(map(lambda x: x[0], list_of_pairs))\n",
    "  if node in list_of_pairs: return True\n",
    "  return False\n",
    "\n",
    "def printPath(current, closed):\n",
    "  node, parent = current\n",
    "  print(node)\n",
    "  while parent is not None:\n",
    "    print(parent)\n",
    "    next_node = list(filter(lambda x : x[0] == parent, closed))\n",
    "    parent = next_node[0][1] if len(next_node) == 1 else print('multiple parent found')"
   ]
  },
  {
   "cell_type": "code",
   "execution_count": 6,
   "id": "d8aa6fee-d45d-4c0b-981d-222c5a464ed0",
   "metadata": {},
   "outputs": [
    {
     "data": {
      "text/plain": [
       "[(0, 4),\n",
       " (2, 3),\n",
       " (4, 4),\n",
       " (3, 2),\n",
       " (4, 0),\n",
       " (2, 1),\n",
       " (1, 3),\n",
       " (0, 1),\n",
       " (2, 0),\n",
       " (4, 1),\n",
       " (2, 2),\n",
       " (3, 4),\n",
       " (4, 2),\n",
       " (3, 0),\n",
       " (1, 1),\n",
       " (0, 3),\n",
       " (2, 4),\n",
       " (4, 3),\n",
       " (3, 1),\n",
       " (1, 0),\n",
       " (0, 2),\n",
       " (1, 4),\n",
       " (3, 3),\n",
       " (1, 2),\n",
       " (0, 0)]"
      ]
     },
     "execution_count": 6,
     "metadata": {},
     "output_type": "execute_result"
    }
   ],
   "source": [
    "def knightTour(node, n, closed=set()):\n",
    "  next_moves = moveGen(node, n)\n",
    "  next_moves = list(set(next_moves) - closed)\n",
    "  closed.add(node)\n",
    "  \n",
    "  for move in next_moves:\n",
    "    path = knightTour(move, n, closed)\n",
    "    if path is not None:\n",
    "      path.append(node)\n",
    "      return path\n",
    "  \n",
    "  if len(closed) == (n * n):\n",
    "    return [node]\n",
    "  \n",
    "  closed.remove(node)\n",
    "  return None\n",
    "\n",
    "\n",
    "# board = 5\n",
    "# for r in range(board):\n",
    "#   for c in range(board):\n",
    "#     print(\"%s,%s:: %s\"%(r, c, knightTour((r,c), board, set())))\n",
    "#     print(\"*\" * 100)\n",
    "\n",
    "knightTour((0, 0), 5, set())"
   ]
  },
  {
   "cell_type": "code",
   "execution_count": null,
   "id": "2bacde90-1b48-43a5-ad3b-37d714bbaa91",
   "metadata": {},
   "outputs": [],
   "source": []
  }
 ],
 "metadata": {
  "kernelspec": {
   "display_name": "Python 3",
   "language": "python",
   "name": "python3"
  },
  "language_info": {
   "codemirror_mode": {
    "name": "ipython",
    "version": 3
   },
   "file_extension": ".py",
   "mimetype": "text/x-python",
   "name": "python",
   "nbconvert_exporter": "python",
   "pygments_lexer": "ipython3",
   "version": "3.7.10"
  }
 },
 "nbformat": 4,
 "nbformat_minor": 5
}
