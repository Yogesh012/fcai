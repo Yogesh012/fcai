{
 "cells": [
  {
   "cell_type": "markdown",
   "id": "94a60ec3-e3ab-4297-bc6f-1544c2cd8776",
   "metadata": {},
   "source": [
    "# Crossing bridge - \n",
    "### Amogh, Ameya and their grandparents have to cross a bridge over the river within one hour to catch a train. It is raining and they have only one umbrella which can be shared by two people. Assuming that no one wants to get wet, how can they get across in an hour or less? Amogh can cross the bridge in 5 minutes, Ameya in 10, their grandmother in 20 and their grandfater in 25."
   ]
  },
  {
   "cell_type": "code",
   "execution_count": 1,
   "id": "0dbba5af-fcb8-4252-b044-ae86fedbc847",
   "metadata": {},
   "outputs": [],
   "source": [
    "def makePair(tup):\n",
    "  pairs = []\n",
    "  if tup is None or len(tup) == 0: return []\n",
    "  else:\n",
    "    for i, c in enumerate(tup):\n",
    "      for r in tup[i+1:]:\n",
    "        pairs.append((c+r))\n",
    "  return pairs\n",
    "\n",
    "def moveGen(state, closed, open, costs):\n",
    "  moves = []\n",
    "  closed = set(map(lambda x: x[0], closed))\n",
    "  open = list(map(lambda x: x[0], open))\n",
    "  if state[-1] == 'l':\n",
    "    pairs = makePair(state[0])\n",
    "    for pair in pairs:\n",
    "      move = (\"\".join(list(filter(lambda x: x not in pair, state[0]))), pair+state[1], max(costs[pair[0]], costs[pair[1]] + state[2]), 'r')\n",
    "      if not(move in closed or move in open):\n",
    "        moves.append(move)\n",
    "  else:\n",
    "    pairs = [c for c in state[1]]\n",
    "    for pair in pairs:\n",
    "      move = (pair+state[0], \"\".join(list(filter(lambda x: x not in pair, state[1]))), costs[pair]+state[2], 'l')\n",
    "      if not(move in closed or move in open):\n",
    "        moves.append(move)\n",
    "  return moves\n",
    "\n",
    "def printPath(current, closed):\n",
    "  node, parent = current\n",
    "  print(\"%s %s %s %s\"%(node[0], ('<--' if node[-1] == 'l' else '-->'), node[1], node[2]))\n",
    "  while parent is not None:\n",
    "    print(\"%s %s %s %s\"%(parent[0], ('<--' if parent[-1] == 'l' else '-->'), parent[1], parent[2]))\n",
    "    next_node = list(filter(lambda x : x[0] == parent, closed))\n",
    "    parent = next_node[0][1] if len(next_node) == 1 else print('multiple parent found')"
   ]
  },
  {
   "cell_type": "code",
   "execution_count": 25,
   "id": "1f10d5ba-0243-4eb4-86a3-57228d0a6ac0",
   "metadata": {},
   "outputs": [
    {
     "name": "stdout",
     "output_type": "stream",
     "text": [
      " --> samf 55\n",
      "sa <-- mf 50\n",
      "a --> mfs 40\n",
      "amf <-- s 15\n",
      "mf --> as 10\n",
      "asmf <--  0\n",
      "count:  63\n"
     ]
    },
    {
     "data": {
      "text/plain": [
       "True"
      ]
     },
     "execution_count": 25,
     "metadata": {},
     "output_type": "execute_result"
    }
   ],
   "source": [
    "costs = {\n",
    "  'a': 5,\n",
    "  's': 10,\n",
    "  'm': 20,\n",
    "  'f': 25\n",
    "}\n",
    "start = ('asmf', '', 0, 'l')\n",
    "\n",
    "def hur(state):\n",
    "  return state[0][2]\n",
    "\n",
    "def crossing_bridge(state, costs):\n",
    "  budget = 60\n",
    "  cost = 0\n",
    "  open = [(start, None)]\n",
    "  closed = set()\n",
    "  \n",
    "  while len(open) != 0:\n",
    "    current = open.pop(0)\n",
    "    closed.add(current)\n",
    "    node, parent = current\n",
    "    cost = node[2]\n",
    "    \n",
    "    if len(node[0]) == 0 and \\\n",
    "      ('a' in node[1] and 'm' in node[1] and 's' in node[1] and 'f' in node[1]) \\\n",
    "      and cost <= budget:\n",
    "        cur = current\n",
    "        printPath(current, closed)\n",
    "        print(\"count: \", len(closed))\n",
    "        return True\n",
    "    \n",
    "    if cost >= budget:\n",
    "      continue\n",
    "\n",
    "    new_moves = moveGen(node, closed, open, costs)\n",
    "    for move in new_moves:\n",
    "      open.append((move, node))\n",
    "    \n",
    "    # sorting the open list makes it a best first search\n",
    "    open = sorted(open, key=hur)\n",
    "  print(\"count: \", len(closed))\n",
    "  return False\n",
    "\n",
    "crossing_bridge(start, costs)"
   ]
  }
 ],
 "metadata": {
  "kernelspec": {
   "display_name": "Python 3",
   "language": "python",
   "name": "python3"
  },
  "language_info": {
   "codemirror_mode": {
    "name": "ipython",
    "version": 3
   },
   "file_extension": ".py",
   "mimetype": "text/x-python",
   "name": "python",
   "nbconvert_exporter": "python",
   "pygments_lexer": "ipython3",
   "version": "3.7.10"
  }
 },
 "nbformat": 4,
 "nbformat_minor": 5
}
