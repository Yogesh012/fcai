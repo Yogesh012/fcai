{
 "cells": [
  {
   "cell_type": "markdown",
   "id": "d035f1ec-3606-460c-92b8-9d4926bc8842",
   "metadata": {},
   "source": [
    "## Give a graph - \n",
    "### Implementatin of Huristic algorithms like hill climbing, Best first search, Iterative hill climbing to explore the graph."
   ]
  },
  {
   "cell_type": "code",
   "execution_count": 1,
   "id": "84d2bcf0-7d70-4da7-b915-0a23ce74f6c4",
   "metadata": {},
   "outputs": [],
   "source": [
    "graph = {\n",
    "  's': ['d'],\n",
    "  'a': ['d', 'b', 'h'],\n",
    "  'b': ['a', 'c', 'k'],\n",
    "  'c': ['b','e'],\n",
    "  'd': ['s', 'f', 'i', 'a'],\n",
    "  'e': ['c', 'k'],\n",
    "  'f': ['d', 'l'],\n",
    "  'h': ['a', 'k', 'j', 'n'],\n",
    "  'k': ['h', 'b', 'e', 'q', 'n'],\n",
    "  'i': ['l', 'd', 'm'],\n",
    "  'j': ['j', 'm'],\n",
    "  'l': ['f', 'i', 'o'],\n",
    "  'm': ['j', 'i', 'p'],\n",
    "  'n': ['h', 'k', 'q', 'g'],\n",
    "  'o': ['l', 'r'],\n",
    "  'p': [],\n",
    "  'q': ['n', 'k'],\n",
    "  'r': ['o', 't'],\n",
    "  't': ['r', 'g'],\n",
    "  'g': ['n', 't']\n",
    "}\n",
    "\n",
    "coord = {\n",
    "  's': [0,0],\n",
    "  'a': [0,3],\n",
    "  'b': [0,4],\n",
    "  'c': [0,6],\n",
    "  'd': [1,1],\n",
    "  'e': [1,8],\n",
    "  'f': [2,0],\n",
    "  'h': [2,4],\n",
    "  'k': [2,6],\n",
    "  'i': [3,1],\n",
    "  'j': [3,3],\n",
    "  'l': [4,0],\n",
    "  'm': [4,3],\n",
    "  'n': [4,6],\n",
    "  'o': [5,1],\n",
    "  'p': [5,4],\n",
    "  'q': [5,8],\n",
    "  'r': [6,2],\n",
    "  't': [6,6],\n",
    "  'g': [6,8]\n",
    "}"
   ]
  },
  {
   "cell_type": "code",
   "execution_count": 3,
   "id": "3674592a-bdcd-452a-baa2-8c400d5cc504",
   "metadata": {},
   "outputs": [],
   "source": [
    "import math\n",
    "\n",
    "def huristic_euclid(node, goal):\n",
    "  n_cord = coord[node]\n",
    "  g_cord = coord[goal]\n",
    "  return 10 * math.sqrt((g_cord[0] - n_cord[0])**2 + (g_cord[1] - n_cord[1])**2)\n",
    "\n",
    "def huristic_man(node, goal='g'):\n",
    "  n_cord = coord[node]\n",
    "  g_cord = coord[goal]\n",
    "  return (abs(g_cord[0] - n_cord[0]) + abs(g_cord[1] - n_cord[1]))  \n",
    "\n",
    "def moveGen(node):\n",
    "  return graph[node]\n",
    "\n",
    "def printPath(current, closed):\n",
    "  node, parent = current\n",
    "  path = [node]\n",
    "  while parent is not None:\n",
    "    path.append(parent)\n",
    "    next_node = list(filter(lambda x : x[0] == parent, closed))\n",
    "    parent = next_node[0][1] if len(next_node) == 1 else print('multiple parent found')\n",
    "  return path"
   ]
  },
  {
   "cell_type": "code",
   "execution_count": 10,
   "id": "ab808ec8-b4c6-4128-95a5-150b85d1c6d9",
   "metadata": {},
   "outputs": [],
   "source": [
    "def find_path_bfs(node, dest):\n",
    "  huristic = huristic_man\n",
    "  open = [(node, None)]\n",
    "  closed = set()\n",
    "  \n",
    "  while len(open) != 0:\n",
    "    current = open.pop(0)\n",
    "    node, parent = current\n",
    "    \n",
    "    if node == dest:\n",
    "      print(\"node visited: \", len(closed)+1)\n",
    "      return printPath(current, closed)\n",
    "    \n",
    "    closed.add(current)\n",
    "    next_moves = moveGen(node)\n",
    "    next_moves = set(next_moves) - set(map(lambda x: x[0], closed))\n",
    "    next_moves = set(next_moves) - set(map(lambda x: x[0], open))\n",
    "    \n",
    "    new_nodes = []\n",
    "    for m in next_moves:\n",
    "      new_nodes.append((m, node))\n",
    "      \n",
    "    open += new_nodes\n",
    "    open = sorted(open, key=lambda x: huristic(x[0], dest))\n",
    "\n",
    "  return False\n",
    "\n",
    "\n",
    "# hill climbing\n",
    "def find_path(node, dest):\n",
    "  huristic = huristic_man\n",
    "  parent = []\n",
    "  new_node = sorted(moveGen(node), key = lambda x: huristic(x, dest))\n",
    "\n",
    "  while len(new_node) != 0 and huristic(new_node[0], dest) < huristic(node, dest):\n",
    "    parent.append(node)\n",
    "    node = new_node[0]\n",
    "    \n",
    "    new_node = moveGen(node)\n",
    "    new_node = sorted(new_node, key = lambda x: huristic(x, dest))\n",
    "\n",
    "  parent.append(node)\n",
    "  return parent\n",
    "\n",
    "\n",
    "# Iterated hill climbing\n",
    "import random\n",
    "def ihc(n, huristic=huristic_man):  \n",
    "  for i in range(n):\n",
    "    node = random.choice(list(graph.keys()))\n",
    "    best_node = node\n",
    "    path = [best_node]\n",
    "\n",
    "    new_node = sorted(moveGen(node), key= lambda x: huristic(x))\n",
    "    \n",
    "    while len(new_node) != 0 and huristic(new_node[0]) < huristic(node):\n",
    "      node = new_node[0]\n",
    "      new_node = sorted(moveGen(node), key= lambda x: huristic(x))\n",
    "      \n",
    "      if len(new_node) != 0 and huristic(new_node[0]) < huristic(best_node):\n",
    "        best_node = new_node[0]\n",
    "        path.append(best_node)\n",
    "    print(\"best path: \", path)\n",
    "\n",
    "  return path"
   ]
  },
  {
   "cell_type": "code",
   "execution_count": 11,
   "id": "88d5025d-b250-45aa-b855-e0ed78c0b493",
   "metadata": {},
   "outputs": [
    {
     "name": "stdout",
     "output_type": "stream",
     "text": [
      "best path:  ['s', 'i', 'm', 'p']\n",
      "best path:  ['d', 'm', 'p']\n",
      "best path:  ['l', 'r', 't', 'g']\n",
      "best path:  ['a', 'n', 'g']\n",
      "best path:  ['s', 'i', 'm', 'p']\n",
      "['s', 'i', 'm', 'p']\n"
     ]
    }
   ],
   "source": [
    "print(ihc(5))\n",
    "# print(ihc('a', 'r', 5, huristic=huristic_man))\n",
    "# print(ihc('e', 'g', 5, huristic=huristic_man))\n",
    "# print(ihc('k', 'l', 5, huristic=huristic_man))\n",
    "# print(ihc('r', 'c', 5, huristic=huristic_man))"
   ]
  },
  {
   "cell_type": "code",
   "execution_count": 266,
   "id": "69b98c20-0ef3-4492-8e94-cb16e2b06cc1",
   "metadata": {},
   "outputs": [
    {
     "name": "stdout",
     "output_type": "stream",
     "text": [
      "['s', 'd', 'i', 'm', 'p']\n",
      "['a', 'd', 'i', 'm']\n",
      "['e']\n",
      "['k', 'h', 'j', 'm', 'i', 'l']\n",
      "['r', 't']\n"
     ]
    }
   ],
   "source": [
    "print(find_path('s', 'g'))\n",
    "print(find_path('a', 'r'))\n",
    "print(find_path('e', 'g'))\n",
    "print(find_path('k', 'l'))\n",
    "print(find_path('r', 'c'))"
   ]
  },
  {
   "cell_type": "code",
   "execution_count": 267,
   "id": "de298fdb-cf2d-46fe-afef-60d1e18c5aee",
   "metadata": {},
   "outputs": [
    {
     "name": "stdout",
     "output_type": "stream",
     "text": [
      "node visited:  11\n",
      "['g', 't', 'r', 'o', 'l', 'i', 'd', 's']\n",
      "node visited:  9\n",
      "['r', 'o', 'l', 'i', 'm', 'j', 'h', 'a']\n",
      "node visited:  5\n",
      "['g', 'n', 'k', 'e']\n",
      "node visited:  6\n",
      "['l', 'i', 'm', 'j', 'h', 'k']\n",
      "node visited:  7\n",
      "['c', 'b', 'k', 'n', 'g', 't', 'r']\n"
     ]
    }
   ],
   "source": [
    "print(find_path_bfs('s', 'g'))\n",
    "print(find_path_bfs('a', 'r'))\n",
    "print(find_path_bfs('e', 'g'))\n",
    "print(find_path_bfs('k', 'l'))\n",
    "print(find_path_bfs('r', 'c'))"
   ]
  },
  {
   "cell_type": "code",
   "execution_count": null,
   "id": "13f78a9c-6b5f-46b5-b3d7-3fc3e69dfcf5",
   "metadata": {},
   "outputs": [],
   "source": []
  }
 ],
 "metadata": {
  "kernelspec": {
   "display_name": "Python 3",
   "language": "python",
   "name": "python3"
  },
  "language_info": {
   "codemirror_mode": {
    "name": "ipython",
    "version": 3
   },
   "file_extension": ".py",
   "mimetype": "text/x-python",
   "name": "python",
   "nbconvert_exporter": "python",
   "pygments_lexer": "ipython3",
   "version": "3.7.10"
  }
 },
 "nbformat": 4,
 "nbformat_minor": 5
}
