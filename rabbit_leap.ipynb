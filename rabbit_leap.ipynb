{
 "cells": [
  {
   "cell_type": "markdown",
   "id": "2f04a64f-e2f0-48b6-82f5-ee1b56fc951c",
   "metadata": {},
   "source": [
    "# Rabbit Leap -\n",
    "### In a rabbit leap problem, three east-bound rabbits stand in a line blocked by three west-bound rabbits. They are crossing a stream with stones placed in the east west direction in a line. There is one empty stone between them. The rabbits can only move one step or two steps. They can jump over one rabbit if need arises, but not more then that. Are they smart enough to cross each other without having to step into the waters?"
   ]
  },
  {
   "cell_type": "code",
   "execution_count": 1,
   "id": "6a3beb08-bc6b-4f67-98d9-1883609f014b",
   "metadata": {},
   "outputs": [],
   "source": [
    "def moveGen(state, closed, opened):\n",
    "  moves = []\n",
    "  state = list(state)\n",
    "  closed = list(map(lambda x: x[0], closed))\n",
    "  opened = list(map(lambda x: x[0], opened))\n",
    "  spid = state.index('_')\n",
    "\n",
    "  # move empty space left by one\n",
    "  if spid > 0:\n",
    "    s_copy = state.copy()\n",
    "    s_copy[spid] = s_copy[spid-1]\n",
    "    s_copy[spid-1] = '_'\n",
    "    s_copy = \"\".join(s_copy)\n",
    "    if not (s_copy in closed or s_copy in opened): moves.append(s_copy)\n",
    "  \n",
    "  # move empty space rigth by one\n",
    "  if spid < len(state)-1:\n",
    "    s_copy = state.copy()\n",
    "    s_copy[spid] = s_copy[spid+1]\n",
    "    s_copy[spid+1] = '_'\n",
    "    s_copy = \"\".join(s_copy)\n",
    "    if not (s_copy in closed or s_copy in opened): moves.append(s_copy)\n",
    "  \n",
    "  # move empty space jump over left\n",
    "  if spid >= 2 and state[spid - 1] != state[spid - 2]:\n",
    "    s_copy = state.copy()\n",
    "    s_copy[spid] = s_copy[spid-2]\n",
    "    s_copy[spid-2] = '_'\n",
    "    s_copy = \"\".join(s_copy)\n",
    "    if not (s_copy in closed or s_copy in opened) : moves.append(s_copy)\n",
    "  \n",
    "  # move empty space jump over right\n",
    "  if len(state) - spid > 2 and state[spid + 1] != state[spid + 2]:\n",
    "    s_copy = state.copy()\n",
    "    s_copy[spid] = s_copy[spid+2]\n",
    "    s_copy[spid+2] = '_'\n",
    "    s_copy = \"\".join(s_copy)\n",
    "    if not (s_copy in closed or s_copy in opened): moves.append(s_copy)\n",
    "\n",
    "  return moves\n",
    "\n",
    "def printPath(current, closed):\n",
    "  node, parent = current\n",
    "  print(node)\n",
    "  while parent is not None:\n",
    "    print(parent)\n",
    "    next_node = list(filter(lambda x : x[0] == parent, closed))\n",
    "    parent = next_node[0][1] if len(next_node) == 1 else print('multiple parent found')"
   ]
  },
  {
   "cell_type": "code",
   "execution_count": 2,
   "id": "4d13ef5c-7b79-4f75-9050-520b13c9e33c",
   "metadata": {},
   "outputs": [
    {
     "name": "stdout",
     "output_type": "stream",
     "text": [
      "eee_www\n",
      "eeew_ww\n",
      "ee_weww\n",
      "e_eweww\n",
      "ewe_eww\n",
      "ewewe_w\n",
      "ewewew_\n",
      "ewew_we\n",
      "ew_wewe\n",
      "_wewewe\n",
      "w_ewewe\n",
      "wwe_ewe\n",
      "wwewe_e\n",
      "wwew_ee\n",
      "ww_weee\n",
      "www_eee\n",
      "visited state count:  136\n"
     ]
    },
    {
     "data": {
      "text/plain": [
       "True"
      ]
     },
     "execution_count": 2,
     "metadata": {},
     "output_type": "execute_result"
    }
   ],
   "source": [
    "def rabbit_leap(ini_pos, target):\n",
    "  opened = [(ini_pos, None)]\n",
    "  closed = set()\n",
    "  \n",
    "  while len(opened) != 0:\n",
    "    current = opened.pop(0)\n",
    "    closed.add(current)\n",
    "    node, parent = current\n",
    "    if node == target:\n",
    "      printPath(current, closed)\n",
    "      print(\"visited state count: \", len(closed))\n",
    "      return True\n",
    "    next_moves = moveGen(node, closed, opened)\n",
    "    for move in next_moves:\n",
    "      opened.append((move, node))\n",
    "  print(\"visited state count: \", len(closed))\n",
    "  return False\n",
    "\n",
    "rabbit_leap('www_eee', 'eee_www')"
   ]
  },
  {
   "cell_type": "code",
   "execution_count": null,
   "id": "af08c1a0-bf1e-4991-9735-45d171c1b20b",
   "metadata": {},
   "outputs": [],
   "source": []
  }
 ],
 "metadata": {
  "kernelspec": {
   "display_name": "Python 3",
   "language": "python",
   "name": "python3"
  },
  "language_info": {
   "codemirror_mode": {
    "name": "ipython",
    "version": 3
   },
   "file_extension": ".py",
   "mimetype": "text/x-python",
   "name": "python",
   "nbconvert_exporter": "python",
   "pygments_lexer": "ipython3",
   "version": "3.7.10"
  }
 },
 "nbformat": 4,
 "nbformat_minor": 5
}
