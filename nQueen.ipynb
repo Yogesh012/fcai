{
 "cells": [
  {
   "cell_type": "markdown",
   "id": "2e183677-84fc-4168-8b59-8329cb21604a",
   "metadata": {},
   "source": [
    "# N-Queens \n",
    "### The N-queens problem is to place n queens on a N x N chessboard, such that no queen attacks another."
   ]
  },
  {
   "cell_type": "code",
   "execution_count": 1,
   "id": "0b4243bd-12fb-4eed-9eac-28fa2420ba85",
   "metadata": {},
   "outputs": [],
   "source": [
    "def moveGen(n, row, col):\n",
    "  \"\"\"\n",
    "  Generate all 8 connected moves for a position in nxn chess board.\n",
    "  \n",
    "  Parametes:\n",
    "  ----------\n",
    "  n: size of the chess board (int).\n",
    "  row: index of row (int).\n",
    "  col: index of clumn (int).\n",
    "  \"\"\"\n",
    "  \n",
    "  moves = []\n",
    "  if col+1 < n: moves.append((row, col+1))\n",
    "  if row+1 < n and col+1 < n: moves.append((row+1, col+1))\n",
    "  if row+1 < n: moves.append((row+1, col))\n",
    "  if row+1 < n and col-1 >= 0: moves.append((row+1, col-1))\n",
    "  if col-1 >= 0: moves.append((row, col-1))\n",
    "  if row-1 >= 0 and col-1 >= 0: moves.append((row-1, col-1))\n",
    "  if row-1 >= 0: moves.append((row-1, col))\n",
    "  if row-1 >= 0 and col+1 < n: moves.append((row-1, col+1))\n",
    "  return moves\n",
    "  \n",
    "def genDigs(n, row, col):\n",
    "  \"\"\"\n",
    "  Generate all digonal positions for a given position in an nxn board\n",
    "  \n",
    "  Parameters:\n",
    "  -----------\n",
    "  n: size of the chess board (int).\n",
    "  row: index of row (int).\n",
    "  col: index of clumn (int).\n",
    "  \"\"\"\n",
    "  \n",
    "  down_row = row + 1\n",
    "  right_col = col + 1\n",
    "  up_row = row - 1\n",
    "  left_col = col - 1\n",
    "  digs = []\n",
    "  \n",
    "  while up_row >= 0 or left_col >= 0 or down_row < n  or right_col < n:\n",
    "    if down_row < n and right_col < n:\n",
    "      digs.append((down_row, right_col))\n",
    "    if down_row < n and left_col >= 0:\n",
    "      digs.append((down_row, left_col))\n",
    "    if up_row >= 0 and right_col < n:\n",
    "      digs.append((up_row, right_col))\n",
    "    if up_row >= 0 and left_col >= 0:\n",
    "      digs.append((up_row, left_col))\n",
    "\n",
    "    down_row += 1\n",
    "    right_col += 1\n",
    "    up_row -= 1\n",
    "    left_col -= 1\n",
    "  return digs\n",
    "    \n",
    "\n",
    "def isPositionSafe(qpos, n, row, col):\n",
    "  \"\"\"\n",
    "  Returns true if a given position is safe to place a queen.\n",
    "  \n",
    "  Parameters:\n",
    "  -----------\n",
    "  n: size of the chess board (int).\n",
    "  row: index of row (int).\n",
    "  col: index of clumn (int).\n",
    "  qpos: list of positions that are already occupied.\n",
    "  \"\"\"\n",
    "  digonals = genDigs(n, row, col)\n",
    "  for pos in qpos:\n",
    "    if row == pos[0]:return False\n",
    "    if col == pos[1]: return False\n",
    "    if pos in digonals: return False\n",
    "  return True"
   ]
  },
  {
   "cell_type": "markdown",
   "id": "56e70328-a9fd-4313-975e-90c20e7b80a1",
   "metadata": {
    "tags": []
   },
   "source": [
    "# nQueen state space search"
   ]
  },
  {
   "cell_type": "markdown",
   "id": "b4a6b6aa-99d1-4738-a54c-1f1d7f14b022",
   "metadata": {},
   "source": [
    "This method uses BFS as a search technique to find a solution."
   ]
  },
  {
   "cell_type": "code",
   "execution_count": 134,
   "id": "ea47d584-9cce-465e-9e16-de4f36ec2069",
   "metadata": {},
   "outputs": [],
   "source": [
    "def nQueen(queens):\n",
    "  visit = [(0,0)]\n",
    "  visit_count = 0\n",
    "  count = 0\n",
    "  iteration = 0\n",
    "  closed = []\n",
    "  queenPositions = []\n",
    "  \n",
    "  def search():\n",
    "    nonlocal visit_count, visit\n",
    "    while len(visit) > 0:\n",
    "      current = visit.pop(0)\n",
    "      visit_count += 1\n",
    "      closed.append(current)\n",
    "      if isPositionSafe(queenPositions, queens, *current):\n",
    "        queenPositions.append(current)\n",
    "      next_moves = moveGen(queens, *current)\n",
    "      next_moves = set(next_moves) - set(closed)\n",
    "      next_moves = set(next_moves) - set(visit)\n",
    "      visit += next_moves\n",
    "  \n",
    "  while len(queenPositions) < queens:\n",
    "    iteration += 1\n",
    "    if len(queenPositions) == 0:\n",
    "      if count > (queens * queens) // 2:\n",
    "        break\n",
    "      else:\n",
    "        count += 1\n",
    "    search()\n",
    "#     if iteration % 5 == 0:\n",
    "#       print(\"iteration:\", iteration)\n",
    "#       print(queenPositions, len(queenPositions), visit_count)\n",
    "\n",
    "    if len(queenPositions) < queens:\n",
    "      last_position = queenPositions[-1]\n",
    "      queenPositions.pop()\n",
    "      idx = closed.index(last_position)\n",
    "      del closed[idx+1:]\n",
    "      visit = moveGen(queens, *last_position)\n",
    "      visit = list(set(visit) - set(closed))\n",
    "\n",
    "  print(\"states visited: \", visit_count)\n",
    "  print(\"queens placed: \", len(queenPositions))\n",
    "  return queenPositions\n",
    "\n",
    "# pos = nQueen(10)\n",
    "# print(\"No Solution\" if len(pos) == 0 else pos)"
   ]
  },
  {
   "cell_type": "markdown",
   "id": "66b1ab73-764e-4af3-b08c-44c36c0fcc83",
   "metadata": {
    "tags": []
   },
   "source": [
    "# Heuristic best first serarch nQueen"
   ]
  },
  {
   "cell_type": "markdown",
   "id": "68f5efa2-48c0-49de-a161-8d49a9f59d9b",
   "metadata": {},
   "source": [
    "This is an implementation of best first search on top of BFS."
   ]
  },
  {
   "cell_type": "code",
   "execution_count": 2,
   "id": "bbf348f1-91ec-45e9-89b5-5d2447ae4a3b",
   "metadata": {},
   "outputs": [],
   "source": [
    "import math\n",
    "\n",
    "def nQueenHuristic(queens):\n",
    "  visit = [(0,0)]\n",
    "  visit_count = 0\n",
    "  count = 0\n",
    "  iteration = 0\n",
    "  closed = []\n",
    "  queenPositions = []\n",
    "  \n",
    "  def search():\n",
    "    nonlocal visit_count, visit\n",
    "    \n",
    "    while len(visit) != 0:\n",
    "      current = visit.pop(0)\n",
    "      visit_count += 1\n",
    "      closed.append(current)\n",
    "\n",
    "      if isPositionSafe(queenPositions, queens, *current):\n",
    "        queenPositions.append(current)\n",
    "\n",
    "      next_moves = moveGen(queens, *current)\n",
    "      next_moves = set(next_moves) - set(closed)\n",
    "      next_moves = list(set(next_moves) - set(visit))\n",
    "      \n",
    "      if len(next_moves) > 0:\n",
    "        filtered_moves = list(filter(lambda node: isPositionSafe(queenPositions, queens, *node), next_moves))\n",
    "        if len(filtered_moves) == 0: \n",
    "          filtered_moves = list(sorted(next_moves, key = lambda node: math.sqrt((current[0] - node[0])**2 + (current[1] - node[1])**2)))\n",
    "        visit = filtered_moves\n",
    " \n",
    "  while len(queenPositions) < queens:\n",
    "    iteration += 1\n",
    "    if len(queenPositions) == 0:\n",
    "      if count > (queens * queens) // 2:\n",
    "        break\n",
    "      else:\n",
    "        count += 1\n",
    "    search()\n",
    "    \n",
    "    if len(queenPositions) < queens:\n",
    "      last_position = queenPositions[-1]\n",
    "      queenPositions.pop()\n",
    "      idx = closed.index(last_position)\n",
    "      del closed[idx+1:]\n",
    "      visit = moveGen(queens, *last_position)\n",
    "      visit = list(set(visit) - set(closed))\n",
    "\n",
    "  print(\"states visited: \", visit_count)\n",
    "  print(\"queens placed: \", len(queenPositions))\n",
    "  return queenPositions"
   ]
  },
  {
   "cell_type": "markdown",
   "id": "0aa9e598-be52-45a8-87dc-8963c1aeebf5",
   "metadata": {},
   "source": [
    "# Hill climbing perturbation search"
   ]
  },
  {
   "cell_type": "code",
   "execution_count": 30,
   "id": "95d5fe8b-ec32-467b-9f95-05aa094faff5",
   "metadata": {},
   "outputs": [],
   "source": [
    "from random import randint\n",
    "\n",
    "def randomPosition(n):\n",
    "  return (randint(0, n-1), randint(0, n-1))\n",
    "  \n",
    "def randomlyPlaceQueen(n):\n",
    "  q_locs = []\n",
    "  for i in range(n):\n",
    "    q_locs.append(randomPosition(n))\n",
    "  return q_locs\n",
    "\n",
    "def huristic(state, n):\n",
    "  h = 0\n",
    "  for pos in state:\n",
    "    if isPositionSafe(state, n, *pos): h += 1\n",
    "  return h\n",
    "\n",
    "def findSafePos(state, n):\n",
    "  open = [(0,0)]\n",
    "  closed = set()\n",
    "  \n",
    "  while len(open) > 0:\n",
    "    current = open.pop(0)\n",
    "    closed.add(current)\n",
    "    if isPositionSafe(state, n, *current):\n",
    "      return current\n",
    "    \n",
    "    next_moves = moveGen(n, *current)\n",
    "    next_moves = set(next_moves) - set(closed)\n",
    "    next_moves = set(next_moves) - set(open)\n",
    "    open += next_moves\n",
    "  \n",
    "  return None\n",
    "\n",
    "def findUnsafeQueen(current_state, n):\n",
    "  idx = 0\n",
    "  safe = True\n",
    "  while safe and idx < len(current_state):\n",
    "    safe = isPositionSafe(current_state, n, *current_state[idx])\n",
    "    if safe: idx += 1\n",
    "  return idx"
   ]
  },
  {
   "cell_type": "markdown",
   "id": "f0380cbd-9ac3-4bc3-8128-303aabb48a13",
   "metadata": {},
   "source": [
    "This is an implementation of hill climbing algorithm. The algorithm tris to find the best path to take but usually get stuck with partial solution."
   ]
  },
  {
   "cell_type": "code",
   "execution_count": 39,
   "id": "032ad322-6172-4d86-8a0c-f541a257e929",
   "metadata": {},
   "outputs": [
    {
     "name": "stdout",
     "output_type": "stream",
     "text": [
      "init state:  [(2, 0), (4, 4), (1, 1), (3, 4), (1, 3)]\n",
      "safe pos:  None\n",
      "[(2, 0), (4, 4), (1, 1), (3, 4), (1, 3)]\n"
     ]
    },
    {
     "data": {
      "text/plain": [
       "([(2, 0), (4, 4), (1, 1), (3, 4), (1, 3)], 0)"
      ]
     },
     "execution_count": 39,
     "metadata": {},
     "output_type": "execute_result"
    }
   ],
   "source": [
    "def nQueen(n):\n",
    "  current_state = randomlyPlaceQueen(n)\n",
    "  print(\"init state: \", current_state)\n",
    "  h = huristic(current_state, n)\n",
    "  \n",
    "  while huristic(current_state, n) < n:\n",
    "    safe_pos = findSafePos(current_state, n)\n",
    "    print(\"safe pos: \", safe_pos)\n",
    "    if safe_pos is not None:\n",
    "      idx = findUnsafeQueen(current_state, n)\n",
    "      current_state[idx] = safe_pos\n",
    "    \n",
    "    print(current_state)\n",
    "    break\n",
    "  return current_state, h\n",
    "\n",
    "nQueen(5)"
   ]
  },
  {
   "cell_type": "markdown",
   "id": "47042f90-8ce9-45d6-9491-c9d238cfe70b",
   "metadata": {},
   "source": [
    "This is an implementation of iterative hill climbing."
   ]
  },
  {
   "cell_type": "code",
   "execution_count": 52,
   "id": "19ea556b-5db1-47bb-a647-edc713862561",
   "metadata": {},
   "outputs": [],
   "source": [
    "def iterativenQueen(n, epoch=10):\n",
    "  state = randomlyPlaceQueen(n)\n",
    "  print(\"state: \", state)\n",
    "  best_state = state\n",
    "  \n",
    "  for  i in range(epoch):\n",
    "    state = randomlyPlaceQueen(n)\n",
    "    new_state = state.copy()\n",
    "    safe_pos = findSafePos(state, n)\n",
    "    if safe_pos is not None:\n",
    "      idx = findUnsafeQueen(state, n)\n",
    "      new_state[idx] = safe_pos\n",
    "    \n",
    "    while huristic(new_state, n) > huristic(state, n):\n",
    "      state = new_state\n",
    "      new_state = state.copy()\n",
    "      safe_pos = findSafePos(state, n)\n",
    "      if safe_pos is not None:\n",
    "        idx = findUnsafeQueen(current_state, n)\n",
    "        new_state[idx] = safe_pos\n",
    "      \n",
    "      if huristic(new_state, n) > huristic(best_state, n):\n",
    "        best_state = new_state\n",
    "\n",
    "  print(huristic(best_state, n))\n",
    "  return best_state"
   ]
  },
  {
   "cell_type": "code",
   "execution_count": 53,
   "id": "a8677b48-4cc3-4fe5-a0b5-e75e1090f9b0",
   "metadata": {},
   "outputs": [
    {
     "name": "stdout",
     "output_type": "stream",
     "text": [
      "state:  [(0, 2), (1, 3), (3, 3), (4, 3), (2, 3)]\n",
      "0\n"
     ]
    },
    {
     "data": {
      "text/plain": [
       "[(0, 2), (1, 3), (3, 3), (4, 3), (2, 3)]"
      ]
     },
     "execution_count": 53,
     "metadata": {},
     "output_type": "execute_result"
    }
   ],
   "source": [
    "iterativenQueen(5)"
   ]
  }
 ],
 "metadata": {
  "kernelspec": {
   "display_name": "Python 3",
   "language": "python",
   "name": "python3"
  },
  "language_info": {
   "codemirror_mode": {
    "name": "ipython",
    "version": 3
   },
   "file_extension": ".py",
   "mimetype": "text/x-python",
   "name": "python",
   "nbconvert_exporter": "python",
   "pygments_lexer": "ipython3",
   "version": "3.7.10"
  }
 },
 "nbformat": 4,
 "nbformat_minor": 5
}
